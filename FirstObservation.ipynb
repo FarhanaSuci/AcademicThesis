{
 "cells": [
  {
   "cell_type": "markdown",
   "id": "5045fa47-5bd9-4af7-a24b-c0c6122c28c5",
   "metadata": {},
   "source": [
    "# Import All Libraries"
   ]
  },
  {
   "cell_type": "code",
   "execution_count": 59,
   "id": "3a4e2bf5-e258-4471-85ee-8d400977b5c7",
   "metadata": {},
   "outputs": [],
   "source": [
    "#data handling\n",
    "import pandas as pd\n",
    "import numpy as np\n",
    "\n",
    "#data visualization\n",
    "import matplotlib.pyplot as plt\n",
    "import seaborn as sns\n",
    "\n",
    "#preprocessing\n",
    "from sklearn.model_selection import train_test_split\n",
    "from sklearn.preprocessing import LabelEncoder\n",
    "from sklearn.preprocessing import label_binarize\n",
    "from sklearn.preprocessing import MinMaxScaler\n",
    "\n",
    "#feature selection\n",
    "from sklearn.feature_selection import mutual_info_classif\n",
    "\n",
    "#classification\n",
    "from sklearn.multiclass import OneVsRestClassifier\n",
    "from sklearn.ensemble import RandomForestClassifier\n",
    "\n",
    "# performance metrics\n",
    "from sklearn.metrics import f1_score,precision_score, recall_score\n",
    "from sklearn.metrics import classification_report\n",
    "from sklearn.metrics import roc_curve,auc\n",
    "from sklearn.metrics import roc_auc_score\n",
    "# remember confusion matrices lets import that and execute it later"
   ]
  },
  {
   "cell_type": "code",
   "execution_count": 60,
   "id": "9aeef4d8-ac51-4928-90e0-7a2fba83a6c8",
   "metadata": {},
   "outputs": [],
   "source": [
    "import numpy as np"
   ]
  },
  {
   "cell_type": "code",
   "execution_count": 61,
   "id": "c0c23944-31b7-4390-b919-dc68e1fde55b",
   "metadata": {},
   "outputs": [],
   "source": [
    "import pandas as pd"
   ]
  },
  {
   "cell_type": "code",
   "execution_count": 62,
   "id": "3c5143e0-734c-48e1-a996-82ad3fdcebaf",
   "metadata": {},
   "outputs": [],
   "source": [
    "df=pd.read_csv(\"GSE44076_merged_data.csv\")"
   ]
  },
  {
   "cell_type": "code",
   "execution_count": 63,
   "id": "176cc39c-eccd-412c-805c-e3d8cf5044b9",
   "metadata": {},
   "outputs": [
    {
     "data": {
      "text/html": [
       "<div>\n",
       "<style scoped>\n",
       "    .dataframe tbody tr th:only-of-type {\n",
       "        vertical-align: middle;\n",
       "    }\n",
       "\n",
       "    .dataframe tbody tr th {\n",
       "        vertical-align: top;\n",
       "    }\n",
       "\n",
       "    .dataframe thead th {\n",
       "        text-align: right;\n",
       "    }\n",
       "</style>\n",
       "<table border=\"1\" class=\"dataframe\">\n",
       "  <thead>\n",
       "    <tr style=\"text-align: right;\">\n",
       "      <th></th>\n",
       "      <th>geo_accession</th>\n",
       "      <th>sample_type</th>\n",
       "      <th>individual_id</th>\n",
       "      <th>stage</th>\n",
       "      <th>location</th>\n",
       "      <th>gender</th>\n",
       "      <th>age</th>\n",
       "      <th>status</th>\n",
       "      <th>11715100_at</th>\n",
       "      <th>11715101_s_at</th>\n",
       "      <th>...</th>\n",
       "      <th>AFFX-r2-TagO-3_at</th>\n",
       "      <th>AFFX-r2-TagO-5_at</th>\n",
       "      <th>AFFX-r2-TagQ-3_at</th>\n",
       "      <th>AFFX-r2-TagQ-5_at</th>\n",
       "      <th>AFFX-ThrX-3_at</th>\n",
       "      <th>AFFX-ThrX-5_at</th>\n",
       "      <th>AFFX-ThrX-M_at</th>\n",
       "      <th>AFFX-TrpnX-3_at</th>\n",
       "      <th>AFFX-TrpnX-5_at</th>\n",
       "      <th>AFFX-TrpnX-M_at</th>\n",
       "    </tr>\n",
       "  </thead>\n",
       "  <tbody>\n",
       "    <tr>\n",
       "      <th>0</th>\n",
       "      <td>GSM1077598</td>\n",
       "      <td>Mucosa</td>\n",
       "      <td>A2119</td>\n",
       "      <td>--</td>\n",
       "      <td>Left</td>\n",
       "      <td>Male</td>\n",
       "      <td>62</td>\n",
       "      <td>Public on Mar 14 2014</td>\n",
       "      <td>3.6599</td>\n",
       "      <td>4.1524</td>\n",
       "      <td>...</td>\n",
       "      <td>1.9475</td>\n",
       "      <td>2.1732</td>\n",
       "      <td>2.3173</td>\n",
       "      <td>2.0892</td>\n",
       "      <td>7.0313</td>\n",
       "      <td>4.8902</td>\n",
       "      <td>5.9995</td>\n",
       "      <td>2.1907</td>\n",
       "      <td>2.1474</td>\n",
       "      <td>2.1102</td>\n",
       "    </tr>\n",
       "    <tr>\n",
       "      <th>1</th>\n",
       "      <td>GSM1077599</td>\n",
       "      <td>Mucosa</td>\n",
       "      <td>A2142</td>\n",
       "      <td>--</td>\n",
       "      <td>Left</td>\n",
       "      <td>Female</td>\n",
       "      <td>77</td>\n",
       "      <td>Public on Mar 14 2014</td>\n",
       "      <td>2.5712</td>\n",
       "      <td>4.1879</td>\n",
       "      <td>...</td>\n",
       "      <td>1.9056</td>\n",
       "      <td>1.9503</td>\n",
       "      <td>2.0665</td>\n",
       "      <td>2.0585</td>\n",
       "      <td>7.3201</td>\n",
       "      <td>5.2443</td>\n",
       "      <td>6.2646</td>\n",
       "      <td>1.9371</td>\n",
       "      <td>2.2677</td>\n",
       "      <td>2.3093</td>\n",
       "    </tr>\n",
       "    <tr>\n",
       "      <th>2</th>\n",
       "      <td>GSM1077600</td>\n",
       "      <td>Mucosa</td>\n",
       "      <td>B2104</td>\n",
       "      <td>--</td>\n",
       "      <td>Left</td>\n",
       "      <td>Female</td>\n",
       "      <td>78</td>\n",
       "      <td>Public on Mar 14 2014</td>\n",
       "      <td>3.3174</td>\n",
       "      <td>4.1040</td>\n",
       "      <td>...</td>\n",
       "      <td>2.5070</td>\n",
       "      <td>2.4232</td>\n",
       "      <td>2.4662</td>\n",
       "      <td>2.2127</td>\n",
       "      <td>8.0270</td>\n",
       "      <td>5.8140</td>\n",
       "      <td>6.3628</td>\n",
       "      <td>2.1923</td>\n",
       "      <td>2.2233</td>\n",
       "      <td>2.2221</td>\n",
       "    </tr>\n",
       "    <tr>\n",
       "      <th>3</th>\n",
       "      <td>GSM1077601</td>\n",
       "      <td>Mucosa</td>\n",
       "      <td>B2127</td>\n",
       "      <td>--</td>\n",
       "      <td>Right</td>\n",
       "      <td>Male</td>\n",
       "      <td>65</td>\n",
       "      <td>Public on Mar 14 2014</td>\n",
       "      <td>3.1835</td>\n",
       "      <td>4.3635</td>\n",
       "      <td>...</td>\n",
       "      <td>2.0228</td>\n",
       "      <td>2.7202</td>\n",
       "      <td>2.4453</td>\n",
       "      <td>2.3259</td>\n",
       "      <td>7.1081</td>\n",
       "      <td>4.7067</td>\n",
       "      <td>5.1356</td>\n",
       "      <td>2.0068</td>\n",
       "      <td>2.2773</td>\n",
       "      <td>2.2656</td>\n",
       "    </tr>\n",
       "    <tr>\n",
       "      <th>4</th>\n",
       "      <td>GSM1077602</td>\n",
       "      <td>Mucosa</td>\n",
       "      <td>B2150</td>\n",
       "      <td>--</td>\n",
       "      <td>Right</td>\n",
       "      <td>Female</td>\n",
       "      <td>52</td>\n",
       "      <td>Public on Mar 14 2014</td>\n",
       "      <td>2.9949</td>\n",
       "      <td>4.5227</td>\n",
       "      <td>...</td>\n",
       "      <td>1.9309</td>\n",
       "      <td>2.1284</td>\n",
       "      <td>2.6587</td>\n",
       "      <td>2.4271</td>\n",
       "      <td>7.7353</td>\n",
       "      <td>5.2432</td>\n",
       "      <td>6.1207</td>\n",
       "      <td>2.1847</td>\n",
       "      <td>2.3030</td>\n",
       "      <td>2.1275</td>\n",
       "    </tr>\n",
       "    <tr>\n",
       "      <th>...</th>\n",
       "      <td>...</td>\n",
       "      <td>...</td>\n",
       "      <td>...</td>\n",
       "      <td>...</td>\n",
       "      <td>...</td>\n",
       "      <td>...</td>\n",
       "      <td>...</td>\n",
       "      <td>...</td>\n",
       "      <td>...</td>\n",
       "      <td>...</td>\n",
       "      <td>...</td>\n",
       "      <td>...</td>\n",
       "      <td>...</td>\n",
       "      <td>...</td>\n",
       "      <td>...</td>\n",
       "      <td>...</td>\n",
       "      <td>...</td>\n",
       "      <td>...</td>\n",
       "      <td>...</td>\n",
       "      <td>...</td>\n",
       "      <td>...</td>\n",
       "    </tr>\n",
       "    <tr>\n",
       "      <th>241</th>\n",
       "      <td>GSM1077839</td>\n",
       "      <td>Tumor</td>\n",
       "      <td>Y2099</td>\n",
       "      <td>IIA</td>\n",
       "      <td>Right</td>\n",
       "      <td>Male</td>\n",
       "      <td>72</td>\n",
       "      <td>Public on Mar 14 2014</td>\n",
       "      <td>2.7624</td>\n",
       "      <td>3.7898</td>\n",
       "      <td>...</td>\n",
       "      <td>1.8331</td>\n",
       "      <td>2.3223</td>\n",
       "      <td>2.3968</td>\n",
       "      <td>2.1180</td>\n",
       "      <td>6.9047</td>\n",
       "      <td>4.9615</td>\n",
       "      <td>5.9032</td>\n",
       "      <td>2.0684</td>\n",
       "      <td>1.9758</td>\n",
       "      <td>2.2050</td>\n",
       "    </tr>\n",
       "    <tr>\n",
       "      <th>242</th>\n",
       "      <td>GSM1077840</td>\n",
       "      <td>Tumor</td>\n",
       "      <td>Z2015</td>\n",
       "      <td>IIA</td>\n",
       "      <td>Right</td>\n",
       "      <td>Male</td>\n",
       "      <td>84</td>\n",
       "      <td>Public on Mar 14 2014</td>\n",
       "      <td>2.5775</td>\n",
       "      <td>3.7737</td>\n",
       "      <td>...</td>\n",
       "      <td>2.1370</td>\n",
       "      <td>2.0858</td>\n",
       "      <td>2.2515</td>\n",
       "      <td>2.0265</td>\n",
       "      <td>7.0130</td>\n",
       "      <td>4.9894</td>\n",
       "      <td>5.8160</td>\n",
       "      <td>1.9110</td>\n",
       "      <td>2.1660</td>\n",
       "      <td>2.0183</td>\n",
       "    </tr>\n",
       "    <tr>\n",
       "      <th>243</th>\n",
       "      <td>GSM1077841</td>\n",
       "      <td>Tumor</td>\n",
       "      <td>Z2038</td>\n",
       "      <td>IIA</td>\n",
       "      <td>Right</td>\n",
       "      <td>Female</td>\n",
       "      <td>65</td>\n",
       "      <td>Public on Mar 14 2014</td>\n",
       "      <td>3.1441</td>\n",
       "      <td>4.3357</td>\n",
       "      <td>...</td>\n",
       "      <td>1.8654</td>\n",
       "      <td>2.4228</td>\n",
       "      <td>2.1907</td>\n",
       "      <td>2.2586</td>\n",
       "      <td>6.4545</td>\n",
       "      <td>4.3336</td>\n",
       "      <td>5.1489</td>\n",
       "      <td>2.1146</td>\n",
       "      <td>2.0619</td>\n",
       "      <td>2.0312</td>\n",
       "    </tr>\n",
       "    <tr>\n",
       "      <th>244</th>\n",
       "      <td>GSM1077842</td>\n",
       "      <td>Tumor</td>\n",
       "      <td>Z2061</td>\n",
       "      <td>IIA</td>\n",
       "      <td>Left</td>\n",
       "      <td>Male</td>\n",
       "      <td>53</td>\n",
       "      <td>Public on Mar 14 2014</td>\n",
       "      <td>4.8256</td>\n",
       "      <td>5.4895</td>\n",
       "      <td>...</td>\n",
       "      <td>1.9590</td>\n",
       "      <td>2.4964</td>\n",
       "      <td>2.0703</td>\n",
       "      <td>2.1757</td>\n",
       "      <td>6.9920</td>\n",
       "      <td>4.9551</td>\n",
       "      <td>6.0431</td>\n",
       "      <td>2.0207</td>\n",
       "      <td>2.2717</td>\n",
       "      <td>2.2361</td>\n",
       "    </tr>\n",
       "    <tr>\n",
       "      <th>245</th>\n",
       "      <td>GSM1077843</td>\n",
       "      <td>Tumor</td>\n",
       "      <td>Z2084</td>\n",
       "      <td>IIA</td>\n",
       "      <td>Left</td>\n",
       "      <td>Male</td>\n",
       "      <td>81</td>\n",
       "      <td>Public on Mar 14 2014</td>\n",
       "      <td>3.3535</td>\n",
       "      <td>4.4803</td>\n",
       "      <td>...</td>\n",
       "      <td>1.7862</td>\n",
       "      <td>2.3495</td>\n",
       "      <td>2.7023</td>\n",
       "      <td>1.8644</td>\n",
       "      <td>6.9709</td>\n",
       "      <td>4.3106</td>\n",
       "      <td>5.6033</td>\n",
       "      <td>2.0328</td>\n",
       "      <td>2.2460</td>\n",
       "      <td>2.1781</td>\n",
       "    </tr>\n",
       "  </tbody>\n",
       "</table>\n",
       "<p>246 rows × 49394 columns</p>\n",
       "</div>"
      ],
      "text/plain": [
       "    geo_accession sample_type individual_id stage location  gender  age  \\\n",
       "0      GSM1077598      Mucosa         A2119    --     Left    Male   62   \n",
       "1      GSM1077599      Mucosa         A2142    --     Left  Female   77   \n",
       "2      GSM1077600      Mucosa         B2104    --     Left  Female   78   \n",
       "3      GSM1077601      Mucosa         B2127    --    Right    Male   65   \n",
       "4      GSM1077602      Mucosa         B2150    --    Right  Female   52   \n",
       "..            ...         ...           ...   ...      ...     ...  ...   \n",
       "241    GSM1077839       Tumor         Y2099   IIA    Right    Male   72   \n",
       "242    GSM1077840       Tumor         Z2015   IIA    Right    Male   84   \n",
       "243    GSM1077841       Tumor         Z2038   IIA    Right  Female   65   \n",
       "244    GSM1077842       Tumor         Z2061   IIA     Left    Male   53   \n",
       "245    GSM1077843       Tumor         Z2084   IIA     Left    Male   81   \n",
       "\n",
       "                    status  11715100_at  11715101_s_at  ...  \\\n",
       "0    Public on Mar 14 2014       3.6599         4.1524  ...   \n",
       "1    Public on Mar 14 2014       2.5712         4.1879  ...   \n",
       "2    Public on Mar 14 2014       3.3174         4.1040  ...   \n",
       "3    Public on Mar 14 2014       3.1835         4.3635  ...   \n",
       "4    Public on Mar 14 2014       2.9949         4.5227  ...   \n",
       "..                     ...          ...            ...  ...   \n",
       "241  Public on Mar 14 2014       2.7624         3.7898  ...   \n",
       "242  Public on Mar 14 2014       2.5775         3.7737  ...   \n",
       "243  Public on Mar 14 2014       3.1441         4.3357  ...   \n",
       "244  Public on Mar 14 2014       4.8256         5.4895  ...   \n",
       "245  Public on Mar 14 2014       3.3535         4.4803  ...   \n",
       "\n",
       "     AFFX-r2-TagO-3_at  AFFX-r2-TagO-5_at  AFFX-r2-TagQ-3_at  \\\n",
       "0               1.9475             2.1732             2.3173   \n",
       "1               1.9056             1.9503             2.0665   \n",
       "2               2.5070             2.4232             2.4662   \n",
       "3               2.0228             2.7202             2.4453   \n",
       "4               1.9309             2.1284             2.6587   \n",
       "..                 ...                ...                ...   \n",
       "241             1.8331             2.3223             2.3968   \n",
       "242             2.1370             2.0858             2.2515   \n",
       "243             1.8654             2.4228             2.1907   \n",
       "244             1.9590             2.4964             2.0703   \n",
       "245             1.7862             2.3495             2.7023   \n",
       "\n",
       "     AFFX-r2-TagQ-5_at  AFFX-ThrX-3_at  AFFX-ThrX-5_at  AFFX-ThrX-M_at  \\\n",
       "0               2.0892          7.0313          4.8902          5.9995   \n",
       "1               2.0585          7.3201          5.2443          6.2646   \n",
       "2               2.2127          8.0270          5.8140          6.3628   \n",
       "3               2.3259          7.1081          4.7067          5.1356   \n",
       "4               2.4271          7.7353          5.2432          6.1207   \n",
       "..                 ...             ...             ...             ...   \n",
       "241             2.1180          6.9047          4.9615          5.9032   \n",
       "242             2.0265          7.0130          4.9894          5.8160   \n",
       "243             2.2586          6.4545          4.3336          5.1489   \n",
       "244             2.1757          6.9920          4.9551          6.0431   \n",
       "245             1.8644          6.9709          4.3106          5.6033   \n",
       "\n",
       "     AFFX-TrpnX-3_at  AFFX-TrpnX-5_at  AFFX-TrpnX-M_at  \n",
       "0             2.1907           2.1474           2.1102  \n",
       "1             1.9371           2.2677           2.3093  \n",
       "2             2.1923           2.2233           2.2221  \n",
       "3             2.0068           2.2773           2.2656  \n",
       "4             2.1847           2.3030           2.1275  \n",
       "..               ...              ...              ...  \n",
       "241           2.0684           1.9758           2.2050  \n",
       "242           1.9110           2.1660           2.0183  \n",
       "243           2.1146           2.0619           2.0312  \n",
       "244           2.0207           2.2717           2.2361  \n",
       "245           2.0328           2.2460           2.1781  \n",
       "\n",
       "[246 rows x 49394 columns]"
      ]
     },
     "execution_count": 63,
     "metadata": {},
     "output_type": "execute_result"
    }
   ],
   "source": [
    "df"
   ]
  },
  {
   "cell_type": "code",
   "execution_count": 64,
   "id": "612a5531-0eec-4645-ac09-01d12fa05073",
   "metadata": {},
   "outputs": [
    {
     "data": {
      "text/plain": [
       "Index(['geo_accession', 'sample_type', 'individual_id', 'stage', 'location',\n",
       "       'gender', 'age', 'status', '11715100_at', '11715101_s_at',\n",
       "       ...\n",
       "       'AFFX-r2-TagO-3_at', 'AFFX-r2-TagO-5_at', 'AFFX-r2-TagQ-3_at',\n",
       "       'AFFX-r2-TagQ-5_at', 'AFFX-ThrX-3_at', 'AFFX-ThrX-5_at',\n",
       "       'AFFX-ThrX-M_at', 'AFFX-TrpnX-3_at', 'AFFX-TrpnX-5_at',\n",
       "       'AFFX-TrpnX-M_at'],\n",
       "      dtype='object', length=49394)"
      ]
     },
     "execution_count": 64,
     "metadata": {},
     "output_type": "execute_result"
    }
   ],
   "source": [
    "df.columns"
   ]
  },
  {
   "cell_type": "markdown",
   "id": "5781d2d5-c694-4326-8429-6afcf19fc9ec",
   "metadata": {},
   "source": [
    "## Only keeping meta data column Sample type ( Target Variable)"
   ]
  },
  {
   "cell_type": "code",
   "execution_count": 65,
   "id": "14367c4d-a8de-4e12-b586-6e34a9e6bccf",
   "metadata": {},
   "outputs": [
    {
     "name": "stdout",
     "output_type": "stream",
     "text": [
      "  sample_type  11715100_at  11715101_s_at  11715102_x_at  11715103_x_at  \\\n",
      "0      Mucosa       3.6599         4.1524         3.3896         3.8929   \n",
      "1      Mucosa       2.5712         4.1879         3.1228         3.7299   \n",
      "2      Mucosa       3.3174         4.1040         3.2434         4.1048   \n",
      "3      Mucosa       3.1835         4.3635         3.1175         3.3426   \n",
      "4      Mucosa       2.9949         4.5227         3.3627         3.3376   \n",
      "\n",
      "   11715104_s_at  11715105_at  11715106_x_at  11715107_s_at  11715108_x_at  \\\n",
      "0         7.3799       2.0732         2.8276         2.6345         2.5165   \n",
      "1         7.7642       2.3151         2.8944         2.4020         2.5873   \n",
      "2         6.4705       2.1824         2.7407         2.4271         2.5785   \n",
      "3         7.0046       2.1961         2.4710         2.2932         2.3527   \n",
      "4         6.9029       2.5087         2.8609         2.4833         2.3683   \n",
      "\n",
      "   ...  AFFX-r2-TagO-3_at  AFFX-r2-TagO-5_at  AFFX-r2-TagQ-3_at  \\\n",
      "0  ...             1.9475             2.1732             2.3173   \n",
      "1  ...             1.9056             1.9503             2.0665   \n",
      "2  ...             2.5070             2.4232             2.4662   \n",
      "3  ...             2.0228             2.7202             2.4453   \n",
      "4  ...             1.9309             2.1284             2.6587   \n",
      "\n",
      "   AFFX-r2-TagQ-5_at  AFFX-ThrX-3_at  AFFX-ThrX-5_at  AFFX-ThrX-M_at  \\\n",
      "0             2.0892          7.0313          4.8902          5.9995   \n",
      "1             2.0585          7.3201          5.2443          6.2646   \n",
      "2             2.2127          8.0270          5.8140          6.3628   \n",
      "3             2.3259          7.1081          4.7067          5.1356   \n",
      "4             2.4271          7.7353          5.2432          6.1207   \n",
      "\n",
      "   AFFX-TrpnX-3_at  AFFX-TrpnX-5_at  AFFX-TrpnX-M_at  \n",
      "0           2.1907           2.1474           2.1102  \n",
      "1           1.9371           2.2677           2.3093  \n",
      "2           2.1923           2.2233           2.2221  \n",
      "3           2.0068           2.2773           2.2656  \n",
      "4           2.1847           2.3030           2.1275  \n",
      "\n",
      "[5 rows x 49387 columns]\n"
     ]
    }
   ],
   "source": [
    "import pandas as pd\n",
    "\n",
    "# Example list of metadata columns\n",
    "metadata_columns = ['geo_accession', 'individual_id', 'stage', 'location',\n",
    "                    'gender', 'age', 'status']\n",
    "\n",
    "# Load your DataFrame (assuming df is already loaded)\n",
    "# Drop all metadata columns except 'sample_type'\n",
    "df_filtered = df.drop(columns=[col for col in metadata_columns if col in df.columns])\n",
    "\n",
    "# Display the new DataFrame structure\n",
    "print(df_filtered.head())\n"
   ]
  },
  {
   "cell_type": "markdown",
   "id": "7716bd36-5e36-481e-92ec-ac3b87c5ea3e",
   "metadata": {},
   "source": [
    "## Place target column at last column "
   ]
  },
  {
   "cell_type": "code",
   "execution_count": 66,
   "id": "ac122509-e305-4baf-934e-5191bc6c3990",
   "metadata": {},
   "outputs": [
    {
     "name": "stdout",
     "output_type": "stream",
     "text": [
      "   11715100_at  11715101_s_at  11715102_x_at  11715103_x_at  11715104_s_at  \\\n",
      "0       3.6599         4.1524         3.3896         3.8929         7.3799   \n",
      "1       2.5712         4.1879         3.1228         3.7299         7.7642   \n",
      "2       3.3174         4.1040         3.2434         4.1048         6.4705   \n",
      "3       3.1835         4.3635         3.1175         3.3426         7.0046   \n",
      "4       2.9949         4.5227         3.3627         3.3376         6.9029   \n",
      "\n",
      "   11715105_at  11715106_x_at  11715107_s_at  11715108_x_at  11715109_at  ...  \\\n",
      "0       2.0732         2.8276         2.6345         2.5165       2.4795  ...   \n",
      "1       2.3151         2.8944         2.4020         2.5873       2.2066  ...   \n",
      "2       2.1824         2.7407         2.4271         2.5785       2.6003  ...   \n",
      "3       2.1961         2.4710         2.2932         2.3527       2.4741  ...   \n",
      "4       2.5087         2.8609         2.4833         2.3683       2.3747  ...   \n",
      "\n",
      "   AFFX-r2-TagO-5_at  AFFX-r2-TagQ-3_at  AFFX-r2-TagQ-5_at  AFFX-ThrX-3_at  \\\n",
      "0             2.1732             2.3173             2.0892          7.0313   \n",
      "1             1.9503             2.0665             2.0585          7.3201   \n",
      "2             2.4232             2.4662             2.2127          8.0270   \n",
      "3             2.7202             2.4453             2.3259          7.1081   \n",
      "4             2.1284             2.6587             2.4271          7.7353   \n",
      "\n",
      "   AFFX-ThrX-5_at  AFFX-ThrX-M_at  AFFX-TrpnX-3_at  AFFX-TrpnX-5_at  \\\n",
      "0          4.8902          5.9995           2.1907           2.1474   \n",
      "1          5.2443          6.2646           1.9371           2.2677   \n",
      "2          5.8140          6.3628           2.1923           2.2233   \n",
      "3          4.7067          5.1356           2.0068           2.2773   \n",
      "4          5.2432          6.1207           2.1847           2.3030   \n",
      "\n",
      "   AFFX-TrpnX-M_at  sample_type  \n",
      "0           2.1102       Mucosa  \n",
      "1           2.3093       Mucosa  \n",
      "2           2.2221       Mucosa  \n",
      "3           2.2656       Mucosa  \n",
      "4           2.1275       Mucosa  \n",
      "\n",
      "[5 rows x 49387 columns]\n"
     ]
    }
   ],
   "source": [
    "import pandas as pd\n",
    "\n",
    "# Assuming df is your DataFrame\n",
    "target_column = 'sample_type'  # Column to move\n",
    "\n",
    "# Reorder columns: Drop target column and add it at the end\n",
    "df_filtered = df_filtered[[col for col in df_filtered.columns if col != target_column] + [target_column]]\n",
    "\n",
    "# Display the modified DataFrame structure\n",
    "print(df_filtered.head())\n"
   ]
  },
  {
   "cell_type": "code",
   "execution_count": 67,
   "id": "feb58ed7-6c14-45d8-80a4-f1e7b4d37b67",
   "metadata": {},
   "outputs": [
    {
     "data": {
      "text/plain": [
       "(246, 49387)"
      ]
     },
     "execution_count": 67,
     "metadata": {},
     "output_type": "execute_result"
    }
   ],
   "source": [
    "df_filtered.shape"
   ]
  },
  {
   "cell_type": "code",
   "execution_count": 68,
   "id": "2831e1fd-b226-4850-b720-84cac946de29",
   "metadata": {},
   "outputs": [
    {
     "name": "stdout",
     "output_type": "stream",
     "text": [
      "<class 'pandas.core.frame.DataFrame'>\n",
      "RangeIndex: 246 entries, 0 to 245\n",
      "Columns: 49387 entries, 11715100_at to sample_type\n",
      "dtypes: float64(49386), object(1)\n",
      "memory usage: 92.7+ MB\n"
     ]
    }
   ],
   "source": [
    "df_filtered.info()"
   ]
  },
  {
   "cell_type": "code",
   "execution_count": 69,
   "id": "7afcbdbb-74d5-40c6-9000-3b7168dba1da",
   "metadata": {},
   "outputs": [
    {
     "data": {
      "text/html": [
       "<div>\n",
       "<style scoped>\n",
       "    .dataframe tbody tr th:only-of-type {\n",
       "        vertical-align: middle;\n",
       "    }\n",
       "\n",
       "    .dataframe tbody tr th {\n",
       "        vertical-align: top;\n",
       "    }\n",
       "\n",
       "    .dataframe thead th {\n",
       "        text-align: right;\n",
       "    }\n",
       "</style>\n",
       "<table border=\"1\" class=\"dataframe\">\n",
       "  <thead>\n",
       "    <tr style=\"text-align: right;\">\n",
       "      <th></th>\n",
       "      <th>11715100_at</th>\n",
       "      <th>11715101_s_at</th>\n",
       "      <th>11715102_x_at</th>\n",
       "      <th>11715103_x_at</th>\n",
       "      <th>11715104_s_at</th>\n",
       "      <th>11715105_at</th>\n",
       "      <th>11715106_x_at</th>\n",
       "      <th>11715107_s_at</th>\n",
       "      <th>11715108_x_at</th>\n",
       "      <th>11715109_at</th>\n",
       "      <th>...</th>\n",
       "      <th>AFFX-r2-TagO-3_at</th>\n",
       "      <th>AFFX-r2-TagO-5_at</th>\n",
       "      <th>AFFX-r2-TagQ-3_at</th>\n",
       "      <th>AFFX-r2-TagQ-5_at</th>\n",
       "      <th>AFFX-ThrX-3_at</th>\n",
       "      <th>AFFX-ThrX-5_at</th>\n",
       "      <th>AFFX-ThrX-M_at</th>\n",
       "      <th>AFFX-TrpnX-3_at</th>\n",
       "      <th>AFFX-TrpnX-5_at</th>\n",
       "      <th>AFFX-TrpnX-M_at</th>\n",
       "    </tr>\n",
       "  </thead>\n",
       "  <tbody>\n",
       "    <tr>\n",
       "      <th>count</th>\n",
       "      <td>246.000000</td>\n",
       "      <td>246.000000</td>\n",
       "      <td>246.000000</td>\n",
       "      <td>246.000000</td>\n",
       "      <td>246.000000</td>\n",
       "      <td>246.000000</td>\n",
       "      <td>246.000000</td>\n",
       "      <td>246.000000</td>\n",
       "      <td>246.000000</td>\n",
       "      <td>246.000000</td>\n",
       "      <td>...</td>\n",
       "      <td>246.000000</td>\n",
       "      <td>246.000000</td>\n",
       "      <td>246.000000</td>\n",
       "      <td>246.000000</td>\n",
       "      <td>246.000000</td>\n",
       "      <td>246.000000</td>\n",
       "      <td>246.000000</td>\n",
       "      <td>246.000000</td>\n",
       "      <td>246.000000</td>\n",
       "      <td>246.000000</td>\n",
       "    </tr>\n",
       "    <tr>\n",
       "      <th>mean</th>\n",
       "      <td>3.288019</td>\n",
       "      <td>4.102380</td>\n",
       "      <td>3.375700</td>\n",
       "      <td>3.557335</td>\n",
       "      <td>5.275933</td>\n",
       "      <td>2.342817</td>\n",
       "      <td>2.645889</td>\n",
       "      <td>2.344843</td>\n",
       "      <td>2.381449</td>\n",
       "      <td>2.372574</td>\n",
       "      <td>...</td>\n",
       "      <td>1.970992</td>\n",
       "      <td>2.296948</td>\n",
       "      <td>2.331161</td>\n",
       "      <td>2.129917</td>\n",
       "      <td>7.391435</td>\n",
       "      <td>4.877451</td>\n",
       "      <td>6.045564</td>\n",
       "      <td>2.055701</td>\n",
       "      <td>2.167706</td>\n",
       "      <td>2.205929</td>\n",
       "    </tr>\n",
       "    <tr>\n",
       "      <th>std</th>\n",
       "      <td>0.556674</td>\n",
       "      <td>0.464731</td>\n",
       "      <td>0.524666</td>\n",
       "      <td>0.424345</td>\n",
       "      <td>2.122396</td>\n",
       "      <td>0.541065</td>\n",
       "      <td>0.237837</td>\n",
       "      <td>0.201904</td>\n",
       "      <td>0.207962</td>\n",
       "      <td>0.205913</td>\n",
       "      <td>...</td>\n",
       "      <td>0.148010</td>\n",
       "      <td>0.172562</td>\n",
       "      <td>0.177752</td>\n",
       "      <td>0.159759</td>\n",
       "      <td>0.593706</td>\n",
       "      <td>0.680868</td>\n",
       "      <td>0.654607</td>\n",
       "      <td>0.097120</td>\n",
       "      <td>0.118026</td>\n",
       "      <td>0.107651</td>\n",
       "    </tr>\n",
       "    <tr>\n",
       "      <th>min</th>\n",
       "      <td>2.265800</td>\n",
       "      <td>2.922400</td>\n",
       "      <td>2.392600</td>\n",
       "      <td>2.429300</td>\n",
       "      <td>2.263200</td>\n",
       "      <td>1.903400</td>\n",
       "      <td>2.120700</td>\n",
       "      <td>1.779600</td>\n",
       "      <td>1.922100</td>\n",
       "      <td>1.926100</td>\n",
       "      <td>...</td>\n",
       "      <td>1.650100</td>\n",
       "      <td>1.910300</td>\n",
       "      <td>1.936300</td>\n",
       "      <td>1.805400</td>\n",
       "      <td>5.769600</td>\n",
       "      <td>3.246800</td>\n",
       "      <td>4.502200</td>\n",
       "      <td>1.809900</td>\n",
       "      <td>1.919600</td>\n",
       "      <td>1.976000</td>\n",
       "    </tr>\n",
       "    <tr>\n",
       "      <th>25%</th>\n",
       "      <td>2.923250</td>\n",
       "      <td>3.795850</td>\n",
       "      <td>3.041750</td>\n",
       "      <td>3.269725</td>\n",
       "      <td>2.955375</td>\n",
       "      <td>2.162425</td>\n",
       "      <td>2.487300</td>\n",
       "      <td>2.208325</td>\n",
       "      <td>2.236075</td>\n",
       "      <td>2.233375</td>\n",
       "      <td>...</td>\n",
       "      <td>1.878450</td>\n",
       "      <td>2.176400</td>\n",
       "      <td>2.214250</td>\n",
       "      <td>2.014775</td>\n",
       "      <td>7.008400</td>\n",
       "      <td>4.408075</td>\n",
       "      <td>5.608000</td>\n",
       "      <td>1.985500</td>\n",
       "      <td>2.084025</td>\n",
       "      <td>2.135750</td>\n",
       "    </tr>\n",
       "    <tr>\n",
       "      <th>50%</th>\n",
       "      <td>3.200600</td>\n",
       "      <td>4.054750</td>\n",
       "      <td>3.284550</td>\n",
       "      <td>3.489650</td>\n",
       "      <td>6.113050</td>\n",
       "      <td>2.248150</td>\n",
       "      <td>2.598600</td>\n",
       "      <td>2.349650</td>\n",
       "      <td>2.350550</td>\n",
       "      <td>2.341950</td>\n",
       "      <td>...</td>\n",
       "      <td>1.948800</td>\n",
       "      <td>2.278450</td>\n",
       "      <td>2.317600</td>\n",
       "      <td>2.112300</td>\n",
       "      <td>7.357900</td>\n",
       "      <td>4.846200</td>\n",
       "      <td>6.052400</td>\n",
       "      <td>2.049750</td>\n",
       "      <td>2.159500</td>\n",
       "      <td>2.201050</td>\n",
       "    </tr>\n",
       "    <tr>\n",
       "      <th>75%</th>\n",
       "      <td>3.478275</td>\n",
       "      <td>4.360975</td>\n",
       "      <td>3.567525</td>\n",
       "      <td>3.721675</td>\n",
       "      <td>7.174200</td>\n",
       "      <td>2.369750</td>\n",
       "      <td>2.772175</td>\n",
       "      <td>2.483150</td>\n",
       "      <td>2.516050</td>\n",
       "      <td>2.502600</td>\n",
       "      <td>...</td>\n",
       "      <td>2.055325</td>\n",
       "      <td>2.409800</td>\n",
       "      <td>2.418150</td>\n",
       "      <td>2.232525</td>\n",
       "      <td>7.792550</td>\n",
       "      <td>5.285550</td>\n",
       "      <td>6.459300</td>\n",
       "      <td>2.124575</td>\n",
       "      <td>2.245525</td>\n",
       "      <td>2.264700</td>\n",
       "    </tr>\n",
       "    <tr>\n",
       "      <th>max</th>\n",
       "      <td>6.066900</td>\n",
       "      <td>5.967600</td>\n",
       "      <td>5.852600</td>\n",
       "      <td>5.410700</td>\n",
       "      <td>8.840200</td>\n",
       "      <td>7.144700</td>\n",
       "      <td>3.547900</td>\n",
       "      <td>2.855700</td>\n",
       "      <td>3.038600</td>\n",
       "      <td>3.073600</td>\n",
       "      <td>...</td>\n",
       "      <td>2.507000</td>\n",
       "      <td>2.953400</td>\n",
       "      <td>3.019000</td>\n",
       "      <td>2.626000</td>\n",
       "      <td>9.074700</td>\n",
       "      <td>7.120200</td>\n",
       "      <td>8.025000</td>\n",
       "      <td>2.328900</td>\n",
       "      <td>2.841300</td>\n",
       "      <td>2.551800</td>\n",
       "    </tr>\n",
       "  </tbody>\n",
       "</table>\n",
       "<p>8 rows × 49386 columns</p>\n",
       "</div>"
      ],
      "text/plain": [
       "       11715100_at  11715101_s_at  11715102_x_at  11715103_x_at  \\\n",
       "count   246.000000     246.000000     246.000000     246.000000   \n",
       "mean      3.288019       4.102380       3.375700       3.557335   \n",
       "std       0.556674       0.464731       0.524666       0.424345   \n",
       "min       2.265800       2.922400       2.392600       2.429300   \n",
       "25%       2.923250       3.795850       3.041750       3.269725   \n",
       "50%       3.200600       4.054750       3.284550       3.489650   \n",
       "75%       3.478275       4.360975       3.567525       3.721675   \n",
       "max       6.066900       5.967600       5.852600       5.410700   \n",
       "\n",
       "       11715104_s_at  11715105_at  11715106_x_at  11715107_s_at  \\\n",
       "count     246.000000   246.000000     246.000000     246.000000   \n",
       "mean        5.275933     2.342817       2.645889       2.344843   \n",
       "std         2.122396     0.541065       0.237837       0.201904   \n",
       "min         2.263200     1.903400       2.120700       1.779600   \n",
       "25%         2.955375     2.162425       2.487300       2.208325   \n",
       "50%         6.113050     2.248150       2.598600       2.349650   \n",
       "75%         7.174200     2.369750       2.772175       2.483150   \n",
       "max         8.840200     7.144700       3.547900       2.855700   \n",
       "\n",
       "       11715108_x_at  11715109_at  ...  AFFX-r2-TagO-3_at  AFFX-r2-TagO-5_at  \\\n",
       "count     246.000000   246.000000  ...         246.000000         246.000000   \n",
       "mean        2.381449     2.372574  ...           1.970992           2.296948   \n",
       "std         0.207962     0.205913  ...           0.148010           0.172562   \n",
       "min         1.922100     1.926100  ...           1.650100           1.910300   \n",
       "25%         2.236075     2.233375  ...           1.878450           2.176400   \n",
       "50%         2.350550     2.341950  ...           1.948800           2.278450   \n",
       "75%         2.516050     2.502600  ...           2.055325           2.409800   \n",
       "max         3.038600     3.073600  ...           2.507000           2.953400   \n",
       "\n",
       "       AFFX-r2-TagQ-3_at  AFFX-r2-TagQ-5_at  AFFX-ThrX-3_at  AFFX-ThrX-5_at  \\\n",
       "count         246.000000         246.000000      246.000000      246.000000   \n",
       "mean            2.331161           2.129917        7.391435        4.877451   \n",
       "std             0.177752           0.159759        0.593706        0.680868   \n",
       "min             1.936300           1.805400        5.769600        3.246800   \n",
       "25%             2.214250           2.014775        7.008400        4.408075   \n",
       "50%             2.317600           2.112300        7.357900        4.846200   \n",
       "75%             2.418150           2.232525        7.792550        5.285550   \n",
       "max             3.019000           2.626000        9.074700        7.120200   \n",
       "\n",
       "       AFFX-ThrX-M_at  AFFX-TrpnX-3_at  AFFX-TrpnX-5_at  AFFX-TrpnX-M_at  \n",
       "count      246.000000       246.000000       246.000000       246.000000  \n",
       "mean         6.045564         2.055701         2.167706         2.205929  \n",
       "std          0.654607         0.097120         0.118026         0.107651  \n",
       "min          4.502200         1.809900         1.919600         1.976000  \n",
       "25%          5.608000         1.985500         2.084025         2.135750  \n",
       "50%          6.052400         2.049750         2.159500         2.201050  \n",
       "75%          6.459300         2.124575         2.245525         2.264700  \n",
       "max          8.025000         2.328900         2.841300         2.551800  \n",
       "\n",
       "[8 rows x 49386 columns]"
      ]
     },
     "execution_count": 69,
     "metadata": {},
     "output_type": "execute_result"
    }
   ],
   "source": [
    "df_filtered.describe()"
   ]
  },
  {
   "cell_type": "markdown",
   "id": "12501995-445d-46b0-9c63-27a1cae4bf9f",
   "metadata": {},
   "source": [
    "# Data Exploration & Cleaning"
   ]
  },
  {
   "cell_type": "code",
   "execution_count": 70,
   "id": "1228f726-bc99-4b7d-acc7-6edad5d1edb0",
   "metadata": {},
   "outputs": [
    {
     "data": {
      "text/plain": [
       "(246, 49387)"
      ]
     },
     "execution_count": 70,
     "metadata": {},
     "output_type": "execute_result"
    }
   ],
   "source": [
    "df_filtered.shape"
   ]
  },
  {
   "cell_type": "code",
   "execution_count": 71,
   "id": "4cea525a-035b-4653-aa05-99b4bbb9b0bf",
   "metadata": {},
   "outputs": [
    {
     "data": {
      "text/plain": [
       "Index(['11715100_at', '11715101_s_at', '11715102_x_at', '11715103_x_at',\n",
       "       '11715104_s_at', '11715105_at', '11715106_x_at', '11715107_s_at',\n",
       "       '11715108_x_at', '11715109_at',\n",
       "       ...\n",
       "       'AFFX-r2-TagO-5_at', 'AFFX-r2-TagQ-3_at', 'AFFX-r2-TagQ-5_at',\n",
       "       'AFFX-ThrX-3_at', 'AFFX-ThrX-5_at', 'AFFX-ThrX-M_at', 'AFFX-TrpnX-3_at',\n",
       "       'AFFX-TrpnX-5_at', 'AFFX-TrpnX-M_at', 'sample_type'],\n",
       "      dtype='object', length=49387)"
      ]
     },
     "execution_count": 71,
     "metadata": {},
     "output_type": "execute_result"
    }
   ],
   "source": [
    "df_filtered.columns"
   ]
  },
  {
   "cell_type": "code",
   "execution_count": 72,
   "id": "eb6c7a28-2aa3-41b5-a51c-c0ac2f6ed716",
   "metadata": {},
   "outputs": [
    {
     "name": "stdout",
     "output_type": "stream",
     "text": [
      "Index(['11715100_at', '11715101_s_at', '11715102_x_at'], dtype='object')\n"
     ]
    }
   ],
   "source": [
    "#let's check some of the columns (first, second and third columns)\n",
    "print(df_filtered.columns[0:3])"
   ]
  },
  {
   "cell_type": "code",
   "execution_count": 73,
   "id": "5cb7964f-c9a8-40af-9558-f8fec9c29fb2",
   "metadata": {},
   "outputs": [
    {
     "data": {
      "text/plain": [
       "'sample_type'"
      ]
     },
     "execution_count": 73,
     "metadata": {},
     "output_type": "execute_result"
    }
   ],
   "source": [
    "#lets check the name of the last column of this dataframe\n",
    "\n",
    "df_filtered.columns[-1]"
   ]
  },
  {
   "cell_type": "code",
   "execution_count": 74,
   "id": "f9f6a1e7-c4ce-455a-8a70-24960bbec835",
   "metadata": {},
   "outputs": [
    {
     "name": "stdout",
     "output_type": "stream",
     "text": [
      "columns with missing values:0\n"
     ]
    }
   ],
   "source": [
    "#check for missing values\n",
    "datanul=df_filtered.isnull().sum()\n",
    "g=[i for i in datanul if i>0]\n",
    "\n",
    "print('columns with missing values:%d'%len(g))"
   ]
  },
  {
   "cell_type": "code",
   "execution_count": 75,
   "id": "e9b3eb75-f041-4c54-8ef5-3ea823352bce",
   "metadata": {},
   "outputs": [
    {
     "name": "stdout",
     "output_type": "stream",
     "text": [
      "sample_type\n",
      "Normal    98\n",
      "Tumor     98\n",
      "Mucosa    50\n",
      "Name: count, dtype: int64\n"
     ]
    }
   ],
   "source": [
    "print(df_filtered['sample_type'].value_counts())"
   ]
  },
  {
   "cell_type": "code",
   "execution_count": 76,
   "id": "eb47f3b0-a6fd-4872-a425-378d61c8c20d",
   "metadata": {},
   "outputs": [
    {
     "data": {
      "text/plain": [
       "<Axes: xlabel='sample_type'>"
      ]
     },
     "execution_count": 76,
     "metadata": {},
     "output_type": "execute_result"
    },
    {
     "data": {
      "image/png": "[encoded data removed]",
      "text/plain": [
       "<Figure size 640x480 with 1 Axes>"
      ]
     },
     "metadata": {},
     "output_type": "display_data"
    }
   ],
   "source": [
    "#plot a bar chat to display the class distribution\n",
    "\n",
    "df_filtered['sample_type'].value_counts().plot.bar()"
   ]
  },
  {
   "cell_type": "markdown",
   "id": "9d2f8a4a-576b-487e-bf80-91cb5d643493",
   "metadata": {},
   "source": [
    "# Data Preprocessing"
   ]
  },
  {
   "cell_type": "code",
   "execution_count": 77,
   "id": "5eae72bc-8ee4-43e5-b2bc-a93df70cf63f",
   "metadata": {},
   "outputs": [],
   "source": [
    "X=df_filtered.iloc[:,0:-1]\n",
    "y=df_filtered.iloc[:,-1]"
   ]
  },
  {
   "cell_type": "code",
   "execution_count": 78,
   "id": "b8c56973-7e02-48f5-a15f-4ab5d2920d40",
   "metadata": {},
   "outputs": [
    {
     "data": {
      "text/plain": [
       "(246, 49386)"
      ]
     },
     "execution_count": 78,
     "metadata": {},
     "output_type": "execute_result"
    }
   ],
   "source": [
    "X.shape"
   ]
  },
  {
   "cell_type": "code",
   "execution_count": 79,
   "id": "7909f274-9168-41d3-aa66-b5126d7571f8",
   "metadata": {},
   "outputs": [
    {
     "data": {
      "text/html": [
       "<div>\n",
       "<style scoped>\n",
       "    .dataframe tbody tr th:only-of-type {\n",
       "        vertical-align: middle;\n",
       "    }\n",
       "\n",
       "    .dataframe tbody tr th {\n",
       "        vertical-align: top;\n",
       "    }\n",
       "\n",
       "    .dataframe thead th {\n",
       "        text-align: right;\n",
       "    }\n",
       "</style>\n",
       "<table border=\"1\" class=\"dataframe\">\n",
       "  <thead>\n",
       "    <tr style=\"text-align: right;\">\n",
       "      <th></th>\n",
       "      <th>11715100_at</th>\n",
       "      <th>11715101_s_at</th>\n",
       "      <th>11715102_x_at</th>\n",
       "      <th>11715103_x_at</th>\n",
       "      <th>11715104_s_at</th>\n",
       "      <th>11715105_at</th>\n",
       "      <th>11715106_x_at</th>\n",
       "      <th>11715107_s_at</th>\n",
       "      <th>11715108_x_at</th>\n",
       "      <th>11715109_at</th>\n",
       "      <th>...</th>\n",
       "      <th>AFFX-r2-TagO-3_at</th>\n",
       "      <th>AFFX-r2-TagO-5_at</th>\n",
       "      <th>AFFX-r2-TagQ-3_at</th>\n",
       "      <th>AFFX-r2-TagQ-5_at</th>\n",
       "      <th>AFFX-ThrX-3_at</th>\n",
       "      <th>AFFX-ThrX-5_at</th>\n",
       "      <th>AFFX-ThrX-M_at</th>\n",
       "      <th>AFFX-TrpnX-3_at</th>\n",
       "      <th>AFFX-TrpnX-5_at</th>\n",
       "      <th>AFFX-TrpnX-M_at</th>\n",
       "    </tr>\n",
       "  </thead>\n",
       "  <tbody>\n",
       "    <tr>\n",
       "      <th>0</th>\n",
       "      <td>3.6599</td>\n",
       "      <td>4.1524</td>\n",
       "      <td>3.3896</td>\n",
       "      <td>3.8929</td>\n",
       "      <td>7.3799</td>\n",
       "      <td>2.0732</td>\n",
       "      <td>2.8276</td>\n",
       "      <td>2.6345</td>\n",
       "      <td>2.5165</td>\n",
       "      <td>2.4795</td>\n",
       "      <td>...</td>\n",
       "      <td>1.9475</td>\n",
       "      <td>2.1732</td>\n",
       "      <td>2.3173</td>\n",
       "      <td>2.0892</td>\n",
       "      <td>7.0313</td>\n",
       "      <td>4.8902</td>\n",
       "      <td>5.9995</td>\n",
       "      <td>2.1907</td>\n",
       "      <td>2.1474</td>\n",
       "      <td>2.1102</td>\n",
       "    </tr>\n",
       "    <tr>\n",
       "      <th>1</th>\n",
       "      <td>2.5712</td>\n",
       "      <td>4.1879</td>\n",
       "      <td>3.1228</td>\n",
       "      <td>3.7299</td>\n",
       "      <td>7.7642</td>\n",
       "      <td>2.3151</td>\n",
       "      <td>2.8944</td>\n",
       "      <td>2.4020</td>\n",
       "      <td>2.5873</td>\n",
       "      <td>2.2066</td>\n",
       "      <td>...</td>\n",
       "      <td>1.9056</td>\n",
       "      <td>1.9503</td>\n",
       "      <td>2.0665</td>\n",
       "      <td>2.0585</td>\n",
       "      <td>7.3201</td>\n",
       "      <td>5.2443</td>\n",
       "      <td>6.2646</td>\n",
       "      <td>1.9371</td>\n",
       "      <td>2.2677</td>\n",
       "      <td>2.3093</td>\n",
       "    </tr>\n",
       "    <tr>\n",
       "      <th>2</th>\n",
       "      <td>3.3174</td>\n",
       "      <td>4.1040</td>\n",
       "      <td>3.2434</td>\n",
       "      <td>4.1048</td>\n",
       "      <td>6.4705</td>\n",
       "      <td>2.1824</td>\n",
       "      <td>2.7407</td>\n",
       "      <td>2.4271</td>\n",
       "      <td>2.5785</td>\n",
       "      <td>2.6003</td>\n",
       "      <td>...</td>\n",
       "      <td>2.5070</td>\n",
       "      <td>2.4232</td>\n",
       "      <td>2.4662</td>\n",
       "      <td>2.2127</td>\n",
       "      <td>8.0270</td>\n",
       "      <td>5.8140</td>\n",
       "      <td>6.3628</td>\n",
       "      <td>2.1923</td>\n",
       "      <td>2.2233</td>\n",
       "      <td>2.2221</td>\n",
       "    </tr>\n",
       "    <tr>\n",
       "      <th>3</th>\n",
       "      <td>3.1835</td>\n",
       "      <td>4.3635</td>\n",
       "      <td>3.1175</td>\n",
       "      <td>3.3426</td>\n",
       "      <td>7.0046</td>\n",
       "      <td>2.1961</td>\n",
       "      <td>2.4710</td>\n",
       "      <td>2.2932</td>\n",
       "      <td>2.3527</td>\n",
       "      <td>2.4741</td>\n",
       "      <td>...</td>\n",
       "      <td>2.0228</td>\n",
       "      <td>2.7202</td>\n",
       "      <td>2.4453</td>\n",
       "      <td>2.3259</td>\n",
       "      <td>7.1081</td>\n",
       "      <td>4.7067</td>\n",
       "      <td>5.1356</td>\n",
       "      <td>2.0068</td>\n",
       "      <td>2.2773</td>\n",
       "      <td>2.2656</td>\n",
       "    </tr>\n",
       "    <tr>\n",
       "      <th>4</th>\n",
       "      <td>2.9949</td>\n",
       "      <td>4.5227</td>\n",
       "      <td>3.3627</td>\n",
       "      <td>3.3376</td>\n",
       "      <td>6.9029</td>\n",
       "      <td>2.5087</td>\n",
       "      <td>2.8609</td>\n",
       "      <td>2.4833</td>\n",
       "      <td>2.3683</td>\n",
       "      <td>2.3747</td>\n",
       "      <td>...</td>\n",
       "      <td>1.9309</td>\n",
       "      <td>2.1284</td>\n",
       "      <td>2.6587</td>\n",
       "      <td>2.4271</td>\n",
       "      <td>7.7353</td>\n",
       "      <td>5.2432</td>\n",
       "      <td>6.1207</td>\n",
       "      <td>2.1847</td>\n",
       "      <td>2.3030</td>\n",
       "      <td>2.1275</td>\n",
       "    </tr>\n",
       "  </tbody>\n",
       "</table>\n",
       "<p>5 rows × 49386 columns</p>\n",
       "</div>"
      ],
      "text/plain": [
       "   11715100_at  11715101_s_at  11715102_x_at  11715103_x_at  11715104_s_at  \\\n",
       "0       3.6599         4.1524         3.3896         3.8929         7.3799   \n",
       "1       2.5712         4.1879         3.1228         3.7299         7.7642   \n",
       "2       3.3174         4.1040         3.2434         4.1048         6.4705   \n",
       "3       3.1835         4.3635         3.1175         3.3426         7.0046   \n",
       "4       2.9949         4.5227         3.3627         3.3376         6.9029   \n",
       "\n",
       "   11715105_at  11715106_x_at  11715107_s_at  11715108_x_at  11715109_at  ...  \\\n",
       "0       2.0732         2.8276         2.6345         2.5165       2.4795  ...   \n",
       "1       2.3151         2.8944         2.4020         2.5873       2.2066  ...   \n",
       "2       2.1824         2.7407         2.4271         2.5785       2.6003  ...   \n",
       "3       2.1961         2.4710         2.2932         2.3527       2.4741  ...   \n",
       "4       2.5087         2.8609         2.4833         2.3683       2.3747  ...   \n",
       "\n",
       "   AFFX-r2-TagO-3_at  AFFX-r2-TagO-5_at  AFFX-r2-TagQ-3_at  AFFX-r2-TagQ-5_at  \\\n",
       "0             1.9475             2.1732             2.3173             2.0892   \n",
       "1             1.9056             1.9503             2.0665             2.0585   \n",
       "2             2.5070             2.4232             2.4662             2.2127   \n",
       "3             2.0228             2.7202             2.4453             2.3259   \n",
       "4             1.9309             2.1284             2.6587             2.4271   \n",
       "\n",
       "   AFFX-ThrX-3_at  AFFX-ThrX-5_at  AFFX-ThrX-M_at  AFFX-TrpnX-3_at  \\\n",
       "0          7.0313          4.8902          5.9995           2.1907   \n",
       "1          7.3201          5.2443          6.2646           1.9371   \n",
       "2          8.0270          5.8140          6.3628           2.1923   \n",
       "3          7.1081          4.7067          5.1356           2.0068   \n",
       "4          7.7353          5.2432          6.1207           2.1847   \n",
       "\n",
       "   AFFX-TrpnX-5_at  AFFX-TrpnX-M_at  \n",
       "0           2.1474           2.1102  \n",
       "1           2.2677           2.3093  \n",
       "2           2.2233           2.2221  \n",
       "3           2.2773           2.2656  \n",
       "4           2.3030           2.1275  \n",
       "\n",
       "[5 rows x 49386 columns]"
      ]
     },
     "execution_count": 79,
     "metadata": {},
     "output_type": "execute_result"
    }
   ],
   "source": [
    "X.head()"
   ]
  },
  {
   "cell_type": "code",
   "execution_count": 80,
   "id": "78144fef-d46c-4fc9-89b2-ee32c2914000",
   "metadata": {},
   "outputs": [
    {
     "data": {
      "text/plain": [
       "(246,)"
      ]
     },
     "execution_count": 80,
     "metadata": {},
     "output_type": "execute_result"
    }
   ],
   "source": [
    "y.shape"
   ]
  },
  {
   "cell_type": "code",
   "execution_count": 81,
   "id": "04475541-609a-4590-96d7-eda423ea751b",
   "metadata": {},
   "outputs": [
    {
     "data": {
      "text/plain": [
       "0    Mucosa\n",
       "1    Mucosa\n",
       "2    Mucosa\n",
       "3    Mucosa\n",
       "4    Mucosa\n",
       "Name: sample_type, dtype: object"
      ]
     },
     "execution_count": 81,
     "metadata": {},
     "output_type": "execute_result"
    }
   ],
   "source": [
    "y.head()"
   ]
  },
  {
   "cell_type": "markdown",
   "id": "9d8af35c-530b-4ec1-9dae-2d44a7f316c3",
   "metadata": {},
   "source": [
    "# Label Encoding"
   ]
  },
  {
   "cell_type": "code",
   "execution_count": 82,
   "id": "95a3666a-f7aa-4d44-a9c4-c972b0ac860a",
   "metadata": {},
   "outputs": [],
   "source": [
    "from sklearn.preprocessing import LabelEncoder"
   ]
  },
  {
   "cell_type": "code",
   "execution_count": 83,
   "id": "ab3a3995-820b-4759-8c06-c05c52f9c982",
   "metadata": {},
   "outputs": [],
   "source": [
    "#let's encode target labels (y) with values between 0 and n_classes-1.\n",
    "#encoding will be done using the LabelEncoder\n",
    "label_encoder=LabelEncoder()\n",
    "label_encoder.fit(y)\n",
    "y_encoded=label_encoder.transform(y)\n",
    "labels=label_encoder.classes_\n",
    "classes=np.unique(y_encoded)"
   ]
  },
  {
   "cell_type": "code",
   "execution_count": 84,
   "id": "53220233-75dd-4356-baf0-a1cac7565131",
   "metadata": {},
   "outputs": [
    {
     "data": {
      "text/plain": [
       "array(['Mucosa', 'Normal', 'Tumor'], dtype=object)"
      ]
     },
     "execution_count": 84,
     "metadata": {},
     "output_type": "execute_result"
    }
   ],
   "source": [
    "labels"
   ]
  },
  {
   "cell_type": "code",
   "execution_count": 85,
   "id": "129815ac-0b6d-42ce-b533-31a74a45a2f5",
   "metadata": {},
   "outputs": [
    {
     "data": {
      "text/plain": [
       "array([0, 1, 2])"
      ]
     },
     "execution_count": 85,
     "metadata": {},
     "output_type": "execute_result"
    }
   ],
   "source": [
    "classes"
   ]
  },
  {
   "cell_type": "markdown",
   "id": "a5c1e681-52b0-43e9-b0be-cc105dc1a6fd",
   "metadata": {},
   "source": [
    "#  Data Splitting"
   ]
  },
  {
   "cell_type": "code",
   "execution_count": 86,
   "id": "46cb05ab-9723-4d27-b169-a786e3e6047c",
   "metadata": {},
   "outputs": [],
   "source": [
    "from sklearn.model_selection import train_test_split"
   ]
  },
  {
   "cell_type": "code",
   "execution_count": 87,
   "id": "0fb28fa0-506b-4aa4-8198-cc73bbd88a3c",
   "metadata": {},
   "outputs": [],
   "source": [
    "#split data into training and test sets\n",
    "X_train,X_test,y_train,y_test=train_test_split(X,y_encoded,test_size=0.2,random_state=42)"
   ]
  },
  {
   "cell_type": "code",
   "execution_count": 88,
   "id": "b1a3e405-4332-479d-b808-a4fa2161a454",
   "metadata": {},
   "outputs": [
    {
     "data": {
      "text/html": [
       "<div>\n",
       "<style scoped>\n",
       "    .dataframe tbody tr th:only-of-type {\n",
       "        vertical-align: middle;\n",
       "    }\n",
       "\n",
       "    .dataframe tbody tr th {\n",
       "        vertical-align: top;\n",
       "    }\n",
       "\n",
       "    .dataframe thead th {\n",
       "        text-align: right;\n",
       "    }\n",
       "</style>\n",
       "<table border=\"1\" class=\"dataframe\">\n",
       "  <thead>\n",
       "    <tr style=\"text-align: right;\">\n",
       "      <th></th>\n",
       "      <th>11715100_at</th>\n",
       "      <th>11715101_s_at</th>\n",
       "      <th>11715102_x_at</th>\n",
       "      <th>11715103_x_at</th>\n",
       "      <th>11715104_s_at</th>\n",
       "      <th>11715105_at</th>\n",
       "      <th>11715106_x_at</th>\n",
       "      <th>11715107_s_at</th>\n",
       "      <th>11715108_x_at</th>\n",
       "      <th>11715109_at</th>\n",
       "    </tr>\n",
       "  </thead>\n",
       "  <tbody>\n",
       "    <tr>\n",
       "      <th>count</th>\n",
       "      <td>246.000000</td>\n",
       "      <td>246.000000</td>\n",
       "      <td>246.000000</td>\n",
       "      <td>246.000000</td>\n",
       "      <td>246.000000</td>\n",
       "      <td>246.000000</td>\n",
       "      <td>246.000000</td>\n",
       "      <td>246.000000</td>\n",
       "      <td>246.000000</td>\n",
       "      <td>246.000000</td>\n",
       "    </tr>\n",
       "    <tr>\n",
       "      <th>mean</th>\n",
       "      <td>3.288019</td>\n",
       "      <td>4.102380</td>\n",
       "      <td>3.375700</td>\n",
       "      <td>3.557335</td>\n",
       "      <td>5.275933</td>\n",
       "      <td>2.342817</td>\n",
       "      <td>2.645889</td>\n",
       "      <td>2.344843</td>\n",
       "      <td>2.381449</td>\n",
       "      <td>2.372574</td>\n",
       "    </tr>\n",
       "    <tr>\n",
       "      <th>std</th>\n",
       "      <td>0.556674</td>\n",
       "      <td>0.464731</td>\n",
       "      <td>0.524666</td>\n",
       "      <td>0.424345</td>\n",
       "      <td>2.122396</td>\n",
       "      <td>0.541065</td>\n",
       "      <td>0.237837</td>\n",
       "      <td>0.201904</td>\n",
       "      <td>0.207962</td>\n",
       "      <td>0.205913</td>\n",
       "    </tr>\n",
       "    <tr>\n",
       "      <th>min</th>\n",
       "      <td>2.265800</td>\n",
       "      <td>2.922400</td>\n",
       "      <td>2.392600</td>\n",
       "      <td>2.429300</td>\n",
       "      <td>2.263200</td>\n",
       "      <td>1.903400</td>\n",
       "      <td>2.120700</td>\n",
       "      <td>1.779600</td>\n",
       "      <td>1.922100</td>\n",
       "      <td>1.926100</td>\n",
       "    </tr>\n",
       "    <tr>\n",
       "      <th>25%</th>\n",
       "      <td>2.923250</td>\n",
       "      <td>3.795850</td>\n",
       "      <td>3.041750</td>\n",
       "      <td>3.269725</td>\n",
       "      <td>2.955375</td>\n",
       "      <td>2.162425</td>\n",
       "      <td>2.487300</td>\n",
       "      <td>2.208325</td>\n",
       "      <td>2.236075</td>\n",
       "      <td>2.233375</td>\n",
       "    </tr>\n",
       "    <tr>\n",
       "      <th>50%</th>\n",
       "      <td>3.200600</td>\n",
       "      <td>4.054750</td>\n",
       "      <td>3.284550</td>\n",
       "      <td>3.489650</td>\n",
       "      <td>6.113050</td>\n",
       "      <td>2.248150</td>\n",
       "      <td>2.598600</td>\n",
       "      <td>2.349650</td>\n",
       "      <td>2.350550</td>\n",
       "      <td>2.341950</td>\n",
       "    </tr>\n",
       "    <tr>\n",
       "      <th>75%</th>\n",
       "      <td>3.478275</td>\n",
       "      <td>4.360975</td>\n",
       "      <td>3.567525</td>\n",
       "      <td>3.721675</td>\n",
       "      <td>7.174200</td>\n",
       "      <td>2.369750</td>\n",
       "      <td>2.772175</td>\n",
       "      <td>2.483150</td>\n",
       "      <td>2.516050</td>\n",
       "      <td>2.502600</td>\n",
       "    </tr>\n",
       "    <tr>\n",
       "      <th>max</th>\n",
       "      <td>6.066900</td>\n",
       "      <td>5.967600</td>\n",
       "      <td>5.852600</td>\n",
       "      <td>5.410700</td>\n",
       "      <td>8.840200</td>\n",
       "      <td>7.144700</td>\n",
       "      <td>3.547900</td>\n",
       "      <td>2.855700</td>\n",
       "      <td>3.038600</td>\n",
       "      <td>3.073600</td>\n",
       "    </tr>\n",
       "  </tbody>\n",
       "</table>\n",
       "</div>"
      ],
      "text/plain": [
       "       11715100_at  11715101_s_at  11715102_x_at  11715103_x_at  \\\n",
       "count   246.000000     246.000000     246.000000     246.000000   \n",
       "mean      3.288019       4.102380       3.375700       3.557335   \n",
       "std       0.556674       0.464731       0.524666       0.424345   \n",
       "min       2.265800       2.922400       2.392600       2.429300   \n",
       "25%       2.923250       3.795850       3.041750       3.269725   \n",
       "50%       3.200600       4.054750       3.284550       3.489650   \n",
       "75%       3.478275       4.360975       3.567525       3.721675   \n",
       "max       6.066900       5.967600       5.852600       5.410700   \n",
       "\n",
       "       11715104_s_at  11715105_at  11715106_x_at  11715107_s_at  \\\n",
       "count     246.000000   246.000000     246.000000     246.000000   \n",
       "mean        5.275933     2.342817       2.645889       2.344843   \n",
       "std         2.122396     0.541065       0.237837       0.201904   \n",
       "min         2.263200     1.903400       2.120700       1.779600   \n",
       "25%         2.955375     2.162425       2.487300       2.208325   \n",
       "50%         6.113050     2.248150       2.598600       2.349650   \n",
       "75%         7.174200     2.369750       2.772175       2.483150   \n",
       "max         8.840200     7.144700       3.547900       2.855700   \n",
       "\n",
       "       11715108_x_at  11715109_at  \n",
       "count     246.000000   246.000000  \n",
       "mean        2.381449     2.372574  \n",
       "std         0.207962     0.205913  \n",
       "min         1.922100     1.926100  \n",
       "25%         2.236075     2.233375  \n",
       "50%         2.350550     2.341950  \n",
       "75%         2.516050     2.502600  \n",
       "max         3.038600     3.073600  "
      ]
     },
     "execution_count": 88,
     "metadata": {},
     "output_type": "execute_result"
    }
   ],
   "source": [
    "df_filtered.iloc[:,0:10].describe()"
   ]
  },
  {
   "cell_type": "markdown",
   "id": "bfc0950f-c728-4763-b031-8e892831b206",
   "metadata": {},
   "source": [
    "## Data Normalization"
   ]
  },
  {
   "cell_type": "code",
   "execution_count": 89,
   "id": "f51834eb-62b3-43d8-b989-442623087b3f",
   "metadata": {},
   "outputs": [],
   "source": [
    "from sklearn.preprocessing import MinMaxScaler"
   ]
  },
  {
   "cell_type": "code",
   "execution_count": 90,
   "id": "f2a0ce7b-309d-417e-849a-ace215da5825",
   "metadata": {},
   "outputs": [],
   "source": [
    "# scale data between 0 and 1\n",
    "\n",
    "min_max_scaler=MinMaxScaler()\n",
    "X_train_norm=min_max_scaler.fit_transform(X_train)\n",
    "X_test_norm=min_max_scaler.fit_transform(X_test)"
   ]
  },
  {
   "cell_type": "markdown",
   "id": "28a03579-8435-4769-9ba9-0271fb379641",
   "metadata": {},
   "source": [
    "## **Feature Selection**\n",
    "The purpose of feature selection is to select relevant features for classification. \n",
    "Feature selection is usually used as a pre-processing step before doing the actual learning. \n",
    "\n",
    "In this tutorial, mutual information algorithm is used to compute the relevance of each feature. The top n (eg. 300) features are selected for the machine learning analysis."
   ]
  },
  {
   "cell_type": "markdown",
   "id": "d486c155-9818-421f-af56-c19ba1d568d9",
   "metadata": {},
   "source": [
    "## Feature Selection using mutual information"
   ]
  },
  {
   "cell_type": "code",
   "execution_count": 91,
   "id": "feb4c461-d0be-4f58-9442-e6d17685a85c",
   "metadata": {},
   "outputs": [],
   "source": [
    "MI=mutual_info_classif(X_train_norm,y_train)"
   ]
  },
  {
   "cell_type": "code",
   "execution_count": 93,
   "id": "30a464a5-5caf-4cd8-96ac-2b57da8bdad3",
   "metadata": {},
   "outputs": [],
   "source": [
    "from sklearn.feature_selection import SelectKBest, f_classif\n",
    "\n",
    "# Select top k features\n",
    "k = 10\n",
    "selector = SelectKBest(score_func=f_classif, k=k)\n",
    "X_train_selected = selector.fit_transform(X_train_norm, y_train)\n",
    "\n",
    "# Get indices of selected features\n",
    "selected_scores_indices = selector.get_support(indices=True)\n",
    "\n",
    "# Apply the same transformation to the test set\n",
    "X_test_selected = X_test_norm[:, selected_scores_indices]\n"
   ]
  },
  {
   "cell_type": "code",
   "execution_count": 94,
   "id": "2dc66edd-1fd0-4bae-b7b7-fb6ae66f852f",
   "metadata": {},
   "outputs": [
    {
     "data": {
      "text/plain": [
       "(196, 10)"
      ]
     },
     "execution_count": 94,
     "metadata": {},
     "output_type": "execute_result"
    }
   ],
   "source": [
    "X_train_selected.shape"
   ]
  },
  {
   "cell_type": "code",
   "execution_count": 95,
   "id": "626c1204-8ad0-43bd-beac-89a916da4bd6",
   "metadata": {},
   "outputs": [
    {
     "data": {
      "text/plain": [
       "(50, 10)"
      ]
     },
     "execution_count": 95,
     "metadata": {},
     "output_type": "execute_result"
    }
   ],
   "source": [
    "X_test_selected.shape"
   ]
  },
  {
   "cell_type": "markdown",
   "id": "b8dfd4fc-4be9-41ca-8a5d-079f1190d196",
   "metadata": {},
   "source": [
    "# Classification"
   ]
  },
  {
   "cell_type": "markdown",
   "id": "0a8b2551-0f49-40bf-aecc-a3bc2881757c",
   "metadata": {},
   "source": [
    "## Model Training"
   ]
  },
  {
   "cell_type": "code",
   "execution_count": 97,
   "id": "5e2f6cee-5196-4056-86a7-32e690a0f6bf",
   "metadata": {},
   "outputs": [],
   "source": [
    "#Random Forest Classifier\n",
    "#because we are dealing with multiclass data, the one versus rest strategy is used.\n",
    "#learn to predict each class against the other.\n",
    "\n",
    "RF=OneVsRestClassifier(RandomForestClassifier(max_features=0.2))\n",
    "RF.fit(X_train_selected,y_train)\n",
    "y_pred =RF.predict(X_test_selected)\n",
    "pred_prob = RF.predict_proba(X_test_selected)"
   ]
  },
  {
   "cell_type": "markdown",
   "id": "cbe9b901-ba3c-4942-8aa4-28286bdbf525",
   "metadata": {},
   "source": [
    "### Model Evaluation\n",
    "\n",
    "After training the model, it is important to know how the model performs on an independent data(i.e. the test data). The following metrics are used to evaluate the model\n",
    "- accuracy\n",
    "- precision\n",
    "- recall\n",
    "- f1 score\n",
    "- confusion matrix\n",
    "- ROC Curve\n"
   ]
  },
  {
   "cell_type": "code",
   "execution_count": 100,
   "id": "b224fdf8-51ad-4fe0-8168-c6d06425b9be",
   "metadata": {},
   "outputs": [
    {
     "name": "stdout",
     "output_type": "stream",
     "text": [
      "precision:0.9160\n",
      "recall:0.8800\n",
      "f1score:0.8726\n",
      "\n",
      "\n",
      "classification report\n",
      "\n",
      "\n",
      "              precision    recall  f1-score   support\n",
      "\n",
      "      Mucosa       1.00      0.54      0.70        13\n",
      "      Normal       0.70      1.00      0.82        14\n",
      "       Tumor       1.00      1.00      1.00        23\n",
      "\n",
      "    accuracy                           0.88        50\n",
      "   macro avg       0.90      0.85      0.84        50\n",
      "weighted avg       0.92      0.88      0.87        50\n",
      "\n"
     ]
    }
   ],
   "source": [
    "#accuracy\n",
    "#accuracy=np.round(balanced_accuracy_score(y_test,y_pred),4)\n",
    "#print('accuracy:%0.4f'%accuracy)\n",
    "\n",
    "#precision\n",
    "precision=np.round(precision_score(y_test,y_pred,average = 'weighted'),4)\n",
    "print('precision:%0.4f'%precision)\n",
    "\n",
    "#recall\n",
    "recall=np.round(recall_score(y_test,y_pred,average = 'weighted'),4)\n",
    "print('recall:%0.4f'%recall)\n",
    "\n",
    "#f1score\n",
    "f1score=np.round(f1_score(y_test,y_pred,average = 'weighted'),4)\n",
    "print('f1score:%0.4f'%f1score)\n",
    "\n",
    "\n",
    "report=classification_report(y_test,y_pred, target_names=labels)\n",
    "print('\\n')\n",
    "print('classification report\\n\\n')\n",
    "print(report)"
   ]
  },
  {
   "cell_type": "code",
   "execution_count": 101,
   "id": "3a211e62-fec8-439c-86d7-68ef5590d5fd",
   "metadata": {},
   "outputs": [],
   "source": [
    "from sklearn.metrics import confusion_matrix\n",
    "cm_df=confusion_matrix(y_test, y_pred)"
   ]
  },
  {
   "cell_type": "code",
   "execution_count": 102,
   "id": "c278e5cf-3e13-47b2-8bcb-07bfb4477c2c",
   "metadata": {},
   "outputs": [
    {
     "data": {
      "text/plain": [
       "array([[ 7,  6,  0],\n",
       "       [ 0, 14,  0],\n",
       "       [ 0,  0, 23]])"
      ]
     },
     "execution_count": 102,
     "metadata": {},
     "output_type": "execute_result"
    }
   ],
   "source": [
    "cm_df"
   ]
  },
  {
   "cell_type": "code",
   "execution_count": 103,
   "id": "89266aa7-8ce9-4cda-975b-3bef49ebf27c",
   "metadata": {},
   "outputs": [
    {
     "data": {
      "text/plain": [
       "Text(50.722222222222214, 0.5, 'True Labels')"
      ]
     },
     "execution_count": 103,
     "metadata": {},
     "output_type": "execute_result"
    },
    {
     "data": {
      "image/png": "[encoded data removed]",
      "text/plain": [
       "<Figure size 640x480 with 2 Axes>"
      ]
     },
     "metadata": {},
     "output_type": "display_data"
    }
   ],
   "source": [
    "#visualize the confusion matrix using seaborn\n",
    "\n",
    "sns.heatmap(cm_df,annot=True,cmap='Blues')\n",
    "plt.xlabel('Predicted Labels')\n",
    "plt.ylabel('True Labels')"
   ]
  },
  {
   "cell_type": "markdown",
   "id": "3b4b8d4e-22ee-400b-9058-a545c7bcaa73",
   "metadata": {},
   "source": [
    "# Accuracy"
   ]
  },
  {
   "cell_type": "code",
   "execution_count": 105,
   "id": "8234a1f5-93da-4096-b8fd-ad17150506b8",
   "metadata": {},
   "outputs": [],
   "source": [
    "from sklearn.metrics import accuracy_score"
   ]
  },
  {
   "cell_type": "code",
   "execution_count": 106,
   "id": "9a178487-3d43-4493-a382-c6432bbb3bab",
   "metadata": {},
   "outputs": [
    {
     "name": "stdout",
     "output_type": "stream",
     "text": [
      "Accuracy: 0.8800\n"
     ]
    }
   ],
   "source": [
    "# Calculate accuracy\n",
    "accuracy = accuracy_score(y_test, y_pred)\n",
    "print(f'Accuracy: {accuracy:.4f}')"
   ]
  },
  {
   "cell_type": "markdown",
   "id": "cba9fc6b-3f1b-4bf6-b809-965ddbcdf762",
   "metadata": {},
   "source": [
    "# Multi-class ROC Curve"
   ]
  },
  {
   "cell_type": "code",
   "execution_count": 107,
   "id": "0ef14bd9-83aa-4cc5-ae62-2d5626f87c6d",
   "metadata": {},
   "outputs": [
    {
     "data": {
      "image/png": "[encoded data removed]",
      "text/plain": [
       "<Figure size 640x480 with 1 Axes>"
      ]
     },
     "metadata": {},
     "output_type": "display_data"
    }
   ],
   "source": [
    "#roc curves will be generated for each class\n",
    "#we will therefore have to binarize the y_test labels\n",
    "#this is done because the probabilities(pred_prob) are calculated for each each class\n",
    "#we therefore need to put the y_test label in the same format as the pred_prob\n",
    "y_test_binarized=label_binarize(y_test,classes=classes)\n",
    "\n",
    "# roc curve for classes\n",
    "fpr = {}\n",
    "tpr = {}\n",
    "thresh ={}\n",
    "roc_auc = dict()\n",
    "\n",
    "n_class = classes.shape[0]\n",
    "\n",
    "for i in range(n_class):    \n",
    "    fpr[i], tpr[i], thresh[i] = roc_curve(y_test_binarized[:,i], pred_prob[:,i])\n",
    "    roc_auc[i] = auc(fpr[i], tpr[i])\n",
    "    \n",
    "    # plotting    \n",
    "    plt.plot(fpr[i], tpr[i], linestyle='--', \n",
    "             label='%s vs Rest (AUC=%0.2f)'%(labels[i],roc_auc[i]))\n",
    "\n",
    "plt.plot([0,1],[0,1],'b--')\n",
    "plt.xlim([0,1])\n",
    "plt.ylim([0,1.05])\n",
    "plt.title('Multiclass ROC curve')\n",
    "plt.xlabel('False Positive Rate')\n",
    "plt.ylabel('True Positive rate')\n",
    "plt.legend(loc='lower right')\n",
    "plt.show()    "
   ]
  }
 ],
 "metadata": {
  "kernelspec": {
   "display_name": "Python 3 (ipykernel)",
   "language": "python",
   "name": "python3"
  },
  "language_info": {
   "codemirror_mode": {
    "name": "ipython",
    "version": 3
   },
   "file_extension": ".py",
   "mimetype": "text/x-python",
   "name": "python",
   "nbconvert_exporter": "python",
   "pygments_lexer": "ipython3",
   "version": "3.10.12"
  }
 },
 "nbformat": 4,
 "nbformat_minor": 5
}
